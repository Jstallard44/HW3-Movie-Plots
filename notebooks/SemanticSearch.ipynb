{
  "nbformat": 4,
  "nbformat_minor": 0,
  "metadata": {
    "colab": {
      "provenance": []
    },
    "kernelspec": {
      "name": "python3",
      "display_name": "Python 3"
    },
    "widgets": {
      "application/vnd.jupyter.widget-state+json": {
        "40f28057a0d74ca5ba947ef2ce40a31b": {
          "model_module": "@jupyter-widgets/controls",
          "model_name": "HBoxModel",
          "model_module_version": "1.5.0",
          "state": {
            "_dom_classes": [],
            "_model_module": "@jupyter-widgets/controls",
            "_model_module_version": "1.5.0",
            "_model_name": "HBoxModel",
            "_view_count": null,
            "_view_module": "@jupyter-widgets/controls",
            "_view_module_version": "1.5.0",
            "_view_name": "HBoxView",
            "box_style": "",
            "children": [
              "IPY_MODEL_2f3f7aabf60f4e6aba9f9c185dda43dc",
              "IPY_MODEL_d19010292db84e06b188a7191c8dde18",
              "IPY_MODEL_61521a99977e44febf60d4818abce3be"
            ],
            "layout": "IPY_MODEL_92e5ea5df5fd4eabb77316e83805c1d3"
          }
        },
        "2f3f7aabf60f4e6aba9f9c185dda43dc": {
          "model_module": "@jupyter-widgets/controls",
          "model_name": "HTMLModel",
          "model_module_version": "1.5.0",
          "state": {
            "_dom_classes": [],
            "_model_module": "@jupyter-widgets/controls",
            "_model_module_version": "1.5.0",
            "_model_name": "HTMLModel",
            "_view_count": null,
            "_view_module": "@jupyter-widgets/controls",
            "_view_module_version": "1.5.0",
            "_view_name": "HTMLView",
            "description": "",
            "description_tooltip": null,
            "layout": "IPY_MODEL_564c1befe7d540d8a75cf6ea6bdba46b",
            "placeholder": "​",
            "style": "IPY_MODEL_8a2d6d8355b54886b6537e64e93913fb",
            "value": "Batches: 100%"
          }
        },
        "d19010292db84e06b188a7191c8dde18": {
          "model_module": "@jupyter-widgets/controls",
          "model_name": "FloatProgressModel",
          "model_module_version": "1.5.0",
          "state": {
            "_dom_classes": [],
            "_model_module": "@jupyter-widgets/controls",
            "_model_module_version": "1.5.0",
            "_model_name": "FloatProgressModel",
            "_view_count": null,
            "_view_module": "@jupyter-widgets/controls",
            "_view_module_version": "1.5.0",
            "_view_name": "ProgressView",
            "bar_style": "success",
            "description": "",
            "description_tooltip": null,
            "layout": "IPY_MODEL_e7a26cdffed04182af2e05c97167fdaf",
            "max": 32,
            "min": 0,
            "orientation": "horizontal",
            "style": "IPY_MODEL_f43b76fbeaf144c388568ee4ff6f82e0",
            "value": 32
          }
        },
        "61521a99977e44febf60d4818abce3be": {
          "model_module": "@jupyter-widgets/controls",
          "model_name": "HTMLModel",
          "model_module_version": "1.5.0",
          "state": {
            "_dom_classes": [],
            "_model_module": "@jupyter-widgets/controls",
            "_model_module_version": "1.5.0",
            "_model_name": "HTMLModel",
            "_view_count": null,
            "_view_module": "@jupyter-widgets/controls",
            "_view_module_version": "1.5.0",
            "_view_name": "HTMLView",
            "description": "",
            "description_tooltip": null,
            "layout": "IPY_MODEL_639267375c1940e68bb325664b9567da",
            "placeholder": "​",
            "style": "IPY_MODEL_be5e11fbe6b944a88b632d35f8a8d1fc",
            "value": " 32/32 [08:55&lt;00:00,  2.74s/it]"
          }
        },
        "92e5ea5df5fd4eabb77316e83805c1d3": {
          "model_module": "@jupyter-widgets/base",
          "model_name": "LayoutModel",
          "model_module_version": "1.2.0",
          "state": {
            "_model_module": "@jupyter-widgets/base",
            "_model_module_version": "1.2.0",
            "_model_name": "LayoutModel",
            "_view_count": null,
            "_view_module": "@jupyter-widgets/base",
            "_view_module_version": "1.2.0",
            "_view_name": "LayoutView",
            "align_content": null,
            "align_items": null,
            "align_self": null,
            "border": null,
            "bottom": null,
            "display": null,
            "flex": null,
            "flex_flow": null,
            "grid_area": null,
            "grid_auto_columns": null,
            "grid_auto_flow": null,
            "grid_auto_rows": null,
            "grid_column": null,
            "grid_gap": null,
            "grid_row": null,
            "grid_template_areas": null,
            "grid_template_columns": null,
            "grid_template_rows": null,
            "height": null,
            "justify_content": null,
            "justify_items": null,
            "left": null,
            "margin": null,
            "max_height": null,
            "max_width": null,
            "min_height": null,
            "min_width": null,
            "object_fit": null,
            "object_position": null,
            "order": null,
            "overflow": null,
            "overflow_x": null,
            "overflow_y": null,
            "padding": null,
            "right": null,
            "top": null,
            "visibility": null,
            "width": null
          }
        },
        "564c1befe7d540d8a75cf6ea6bdba46b": {
          "model_module": "@jupyter-widgets/base",
          "model_name": "LayoutModel",
          "model_module_version": "1.2.0",
          "state": {
            "_model_module": "@jupyter-widgets/base",
            "_model_module_version": "1.2.0",
            "_model_name": "LayoutModel",
            "_view_count": null,
            "_view_module": "@jupyter-widgets/base",
            "_view_module_version": "1.2.0",
            "_view_name": "LayoutView",
            "align_content": null,
            "align_items": null,
            "align_self": null,
            "border": null,
            "bottom": null,
            "display": null,
            "flex": null,
            "flex_flow": null,
            "grid_area": null,
            "grid_auto_columns": null,
            "grid_auto_flow": null,
            "grid_auto_rows": null,
            "grid_column": null,
            "grid_gap": null,
            "grid_row": null,
            "grid_template_areas": null,
            "grid_template_columns": null,
            "grid_template_rows": null,
            "height": null,
            "justify_content": null,
            "justify_items": null,
            "left": null,
            "margin": null,
            "max_height": null,
            "max_width": null,
            "min_height": null,
            "min_width": null,
            "object_fit": null,
            "object_position": null,
            "order": null,
            "overflow": null,
            "overflow_x": null,
            "overflow_y": null,
            "padding": null,
            "right": null,
            "top": null,
            "visibility": null,
            "width": null
          }
        },
        "8a2d6d8355b54886b6537e64e93913fb": {
          "model_module": "@jupyter-widgets/controls",
          "model_name": "DescriptionStyleModel",
          "model_module_version": "1.5.0",
          "state": {
            "_model_module": "@jupyter-widgets/controls",
            "_model_module_version": "1.5.0",
            "_model_name": "DescriptionStyleModel",
            "_view_count": null,
            "_view_module": "@jupyter-widgets/base",
            "_view_module_version": "1.2.0",
            "_view_name": "StyleView",
            "description_width": ""
          }
        },
        "e7a26cdffed04182af2e05c97167fdaf": {
          "model_module": "@jupyter-widgets/base",
          "model_name": "LayoutModel",
          "model_module_version": "1.2.0",
          "state": {
            "_model_module": "@jupyter-widgets/base",
            "_model_module_version": "1.2.0",
            "_model_name": "LayoutModel",
            "_view_count": null,
            "_view_module": "@jupyter-widgets/base",
            "_view_module_version": "1.2.0",
            "_view_name": "LayoutView",
            "align_content": null,
            "align_items": null,
            "align_self": null,
            "border": null,
            "bottom": null,
            "display": null,
            "flex": null,
            "flex_flow": null,
            "grid_area": null,
            "grid_auto_columns": null,
            "grid_auto_flow": null,
            "grid_auto_rows": null,
            "grid_column": null,
            "grid_gap": null,
            "grid_row": null,
            "grid_template_areas": null,
            "grid_template_columns": null,
            "grid_template_rows": null,
            "height": null,
            "justify_content": null,
            "justify_items": null,
            "left": null,
            "margin": null,
            "max_height": null,
            "max_width": null,
            "min_height": null,
            "min_width": null,
            "object_fit": null,
            "object_position": null,
            "order": null,
            "overflow": null,
            "overflow_x": null,
            "overflow_y": null,
            "padding": null,
            "right": null,
            "top": null,
            "visibility": null,
            "width": null
          }
        },
        "f43b76fbeaf144c388568ee4ff6f82e0": {
          "model_module": "@jupyter-widgets/controls",
          "model_name": "ProgressStyleModel",
          "model_module_version": "1.5.0",
          "state": {
            "_model_module": "@jupyter-widgets/controls",
            "_model_module_version": "1.5.0",
            "_model_name": "ProgressStyleModel",
            "_view_count": null,
            "_view_module": "@jupyter-widgets/base",
            "_view_module_version": "1.2.0",
            "_view_name": "StyleView",
            "bar_color": null,
            "description_width": ""
          }
        },
        "639267375c1940e68bb325664b9567da": {
          "model_module": "@jupyter-widgets/base",
          "model_name": "LayoutModel",
          "model_module_version": "1.2.0",
          "state": {
            "_model_module": "@jupyter-widgets/base",
            "_model_module_version": "1.2.0",
            "_model_name": "LayoutModel",
            "_view_count": null,
            "_view_module": "@jupyter-widgets/base",
            "_view_module_version": "1.2.0",
            "_view_name": "LayoutView",
            "align_content": null,
            "align_items": null,
            "align_self": null,
            "border": null,
            "bottom": null,
            "display": null,
            "flex": null,
            "flex_flow": null,
            "grid_area": null,
            "grid_auto_columns": null,
            "grid_auto_flow": null,
            "grid_auto_rows": null,
            "grid_column": null,
            "grid_gap": null,
            "grid_row": null,
            "grid_template_areas": null,
            "grid_template_columns": null,
            "grid_template_rows": null,
            "height": null,
            "justify_content": null,
            "justify_items": null,
            "left": null,
            "margin": null,
            "max_height": null,
            "max_width": null,
            "min_height": null,
            "min_width": null,
            "object_fit": null,
            "object_position": null,
            "order": null,
            "overflow": null,
            "overflow_x": null,
            "overflow_y": null,
            "padding": null,
            "right": null,
            "top": null,
            "visibility": null,
            "width": null
          }
        },
        "be5e11fbe6b944a88b632d35f8a8d1fc": {
          "model_module": "@jupyter-widgets/controls",
          "model_name": "DescriptionStyleModel",
          "model_module_version": "1.5.0",
          "state": {
            "_model_module": "@jupyter-widgets/controls",
            "_model_module_version": "1.5.0",
            "_model_name": "DescriptionStyleModel",
            "_view_count": null,
            "_view_module": "@jupyter-widgets/base",
            "_view_module_version": "1.2.0",
            "_view_name": "StyleView",
            "description_width": ""
          }
        }
      }
    }
  },
  "cells": [
    {
      "cell_type": "markdown",
      "metadata": {
        "id": "AF_x5L0e9r8A"
      },
      "source": [
        "# Semantic Search - Wikipedia Question-Answer-Retrieval\n",
        "\n",
        "This examples demonstrates the setup for Question-Answer-Retrieval.\n",
        "\n",
        "You can input a query or a question. The script then uses semantic search\n",
        "to find relevant passages in Simple English Wikipedia (as it is smaller and fits better in RAM).\n",
        "\n",
        "As model, we use: nq-distilbert-base-v1\n",
        "\n",
        "It was trained on the Natural Questions dataset, a dataset with real questions from Google Search together with annotated data from Wikipedia providing the answer. For the passages, we encode the Wikipedia article tile together with the individual text passages."
      ]
    },
    {
      "cell_type": "code",
      "metadata": {
        "id": "hJbZ22zZ7yPi",
        "colab": {
          "base_uri": "https://localhost:8080/"
        },
        "outputId": "d1338ed7-8474-4756-d7f7-92c7557f07ff"
      },
      "source": [
        "!pip install -U sentence-transformers datasets"
      ],
      "execution_count": null,
      "outputs": [
        {
          "output_type": "stream",
          "name": "stdout",
          "text": [
            "Collecting sentence-transformers\n",
            "  Downloading sentence_transformers-2.6.1-py3-none-any.whl (163 kB)\n",
            "\u001b[2K     \u001b[90m━━━━━━━━━━━━━━━━━━━━━━━━━━━━━━━━━━━━━━━━\u001b[0m \u001b[32m163.3/163.3 kB\u001b[0m \u001b[31m3.3 MB/s\u001b[0m eta \u001b[36m0:00:00\u001b[0m\n",
            "\u001b[?25hCollecting datasets\n",
            "  Downloading datasets-2.18.0-py3-none-any.whl (510 kB)\n",
            "\u001b[2K     \u001b[90m━━━━━━━━━━━━━━━━━━━━━━━━━━━━━━━━━━━━━━━━\u001b[0m \u001b[32m510.5/510.5 kB\u001b[0m \u001b[31m8.5 MB/s\u001b[0m eta \u001b[36m0:00:00\u001b[0m\n",
            "\u001b[?25hRequirement already satisfied: transformers<5.0.0,>=4.32.0 in /usr/local/lib/python3.10/dist-packages (from sentence-transformers) (4.38.2)\n",
            "Requirement already satisfied: tqdm in /usr/local/lib/python3.10/dist-packages (from sentence-transformers) (4.66.2)\n",
            "Requirement already satisfied: torch>=1.11.0 in /usr/local/lib/python3.10/dist-packages (from sentence-transformers) (2.2.1+cu121)\n",
            "Requirement already satisfied: numpy in /usr/local/lib/python3.10/dist-packages (from sentence-transformers) (1.25.2)\n",
            "Requirement already satisfied: scikit-learn in /usr/local/lib/python3.10/dist-packages (from sentence-transformers) (1.2.2)\n",
            "Requirement already satisfied: scipy in /usr/local/lib/python3.10/dist-packages (from sentence-transformers) (1.11.4)\n",
            "Requirement already satisfied: huggingface-hub>=0.15.1 in /usr/local/lib/python3.10/dist-packages (from sentence-transformers) (0.20.3)\n",
            "Requirement already satisfied: Pillow in /usr/local/lib/python3.10/dist-packages (from sentence-transformers) (9.4.0)\n",
            "Requirement already satisfied: filelock in /usr/local/lib/python3.10/dist-packages (from datasets) (3.13.3)\n",
            "Requirement already satisfied: pyarrow>=12.0.0 in /usr/local/lib/python3.10/dist-packages (from datasets) (14.0.2)\n",
            "Requirement already satisfied: pyarrow-hotfix in /usr/local/lib/python3.10/dist-packages (from datasets) (0.6)\n",
            "Collecting dill<0.3.9,>=0.3.0 (from datasets)\n",
            "  Downloading dill-0.3.8-py3-none-any.whl (116 kB)\n",
            "\u001b[2K     \u001b[90m━━━━━━━━━━━━━━━━━━━━━━━━━━━━━━━━━━━━━━━━\u001b[0m \u001b[32m116.3/116.3 kB\u001b[0m \u001b[31m11.3 MB/s\u001b[0m eta \u001b[36m0:00:00\u001b[0m\n",
            "\u001b[?25hRequirement already satisfied: pandas in /usr/local/lib/python3.10/dist-packages (from datasets) (2.0.3)\n",
            "Requirement already satisfied: requests>=2.19.0 in /usr/local/lib/python3.10/dist-packages (from datasets) (2.31.0)\n",
            "Collecting xxhash (from datasets)\n",
            "  Downloading xxhash-3.4.1-cp310-cp310-manylinux_2_17_x86_64.manylinux2014_x86_64.whl (194 kB)\n",
            "\u001b[2K     \u001b[90m━━━━━━━━━━━━━━━━━━━━━━━━━━━━━━━━━━━━━━━━\u001b[0m \u001b[32m194.1/194.1 kB\u001b[0m \u001b[31m8.4 MB/s\u001b[0m eta \u001b[36m0:00:00\u001b[0m\n",
            "\u001b[?25hCollecting multiprocess (from datasets)\n",
            "  Downloading multiprocess-0.70.16-py310-none-any.whl (134 kB)\n",
            "\u001b[2K     \u001b[90m━━━━━━━━━━━━━━━━━━━━━━━━━━━━━━━━━━━━━━━━\u001b[0m \u001b[32m134.8/134.8 kB\u001b[0m \u001b[31m12.0 MB/s\u001b[0m eta \u001b[36m0:00:00\u001b[0m\n",
            "\u001b[?25hRequirement already satisfied: fsspec[http]<=2024.2.0,>=2023.1.0 in /usr/local/lib/python3.10/dist-packages (from datasets) (2023.6.0)\n",
            "Requirement already satisfied: aiohttp in /usr/local/lib/python3.10/dist-packages (from datasets) (3.9.3)\n",
            "Requirement already satisfied: packaging in /usr/local/lib/python3.10/dist-packages (from datasets) (24.0)\n",
            "Requirement already satisfied: pyyaml>=5.1 in /usr/local/lib/python3.10/dist-packages (from datasets) (6.0.1)\n",
            "Requirement already satisfied: aiosignal>=1.1.2 in /usr/local/lib/python3.10/dist-packages (from aiohttp->datasets) (1.3.1)\n",
            "Requirement already satisfied: attrs>=17.3.0 in /usr/local/lib/python3.10/dist-packages (from aiohttp->datasets) (23.2.0)\n",
            "Requirement already satisfied: frozenlist>=1.1.1 in /usr/local/lib/python3.10/dist-packages (from aiohttp->datasets) (1.4.1)\n",
            "Requirement already satisfied: multidict<7.0,>=4.5 in /usr/local/lib/python3.10/dist-packages (from aiohttp->datasets) (6.0.5)\n",
            "Requirement already satisfied: yarl<2.0,>=1.0 in /usr/local/lib/python3.10/dist-packages (from aiohttp->datasets) (1.9.4)\n",
            "Requirement already satisfied: async-timeout<5.0,>=4.0 in /usr/local/lib/python3.10/dist-packages (from aiohttp->datasets) (4.0.3)\n",
            "Requirement already satisfied: typing-extensions>=3.7.4.3 in /usr/local/lib/python3.10/dist-packages (from huggingface-hub>=0.15.1->sentence-transformers) (4.10.0)\n",
            "Requirement already satisfied: charset-normalizer<4,>=2 in /usr/local/lib/python3.10/dist-packages (from requests>=2.19.0->datasets) (3.3.2)\n",
            "Requirement already satisfied: idna<4,>=2.5 in /usr/local/lib/python3.10/dist-packages (from requests>=2.19.0->datasets) (3.6)\n",
            "Requirement already satisfied: urllib3<3,>=1.21.1 in /usr/local/lib/python3.10/dist-packages (from requests>=2.19.0->datasets) (2.0.7)\n",
            "Requirement already satisfied: certifi>=2017.4.17 in /usr/local/lib/python3.10/dist-packages (from requests>=2.19.0->datasets) (2024.2.2)\n",
            "Requirement already satisfied: sympy in /usr/local/lib/python3.10/dist-packages (from torch>=1.11.0->sentence-transformers) (1.12)\n",
            "Requirement already satisfied: networkx in /usr/local/lib/python3.10/dist-packages (from torch>=1.11.0->sentence-transformers) (3.2.1)\n",
            "Requirement already satisfied: jinja2 in /usr/local/lib/python3.10/dist-packages (from torch>=1.11.0->sentence-transformers) (3.1.3)\n",
            "Collecting nvidia-cuda-nvrtc-cu12==12.1.105 (from torch>=1.11.0->sentence-transformers)\n",
            "  Using cached nvidia_cuda_nvrtc_cu12-12.1.105-py3-none-manylinux1_x86_64.whl (23.7 MB)\n",
            "Collecting nvidia-cuda-runtime-cu12==12.1.105 (from torch>=1.11.0->sentence-transformers)\n",
            "  Using cached nvidia_cuda_runtime_cu12-12.1.105-py3-none-manylinux1_x86_64.whl (823 kB)\n",
            "Collecting nvidia-cuda-cupti-cu12==12.1.105 (from torch>=1.11.0->sentence-transformers)\n",
            "  Using cached nvidia_cuda_cupti_cu12-12.1.105-py3-none-manylinux1_x86_64.whl (14.1 MB)\n",
            "Collecting nvidia-cudnn-cu12==8.9.2.26 (from torch>=1.11.0->sentence-transformers)\n",
            "  Using cached nvidia_cudnn_cu12-8.9.2.26-py3-none-manylinux1_x86_64.whl (731.7 MB)\n",
            "Collecting nvidia-cublas-cu12==12.1.3.1 (from torch>=1.11.0->sentence-transformers)\n",
            "  Using cached nvidia_cublas_cu12-12.1.3.1-py3-none-manylinux1_x86_64.whl (410.6 MB)\n",
            "Collecting nvidia-cufft-cu12==11.0.2.54 (from torch>=1.11.0->sentence-transformers)\n",
            "  Using cached nvidia_cufft_cu12-11.0.2.54-py3-none-manylinux1_x86_64.whl (121.6 MB)\n",
            "Collecting nvidia-curand-cu12==10.3.2.106 (from torch>=1.11.0->sentence-transformers)\n",
            "  Using cached nvidia_curand_cu12-10.3.2.106-py3-none-manylinux1_x86_64.whl (56.5 MB)\n",
            "Collecting nvidia-cusolver-cu12==11.4.5.107 (from torch>=1.11.0->sentence-transformers)\n",
            "  Using cached nvidia_cusolver_cu12-11.4.5.107-py3-none-manylinux1_x86_64.whl (124.2 MB)\n",
            "Collecting nvidia-cusparse-cu12==12.1.0.106 (from torch>=1.11.0->sentence-transformers)\n",
            "  Using cached nvidia_cusparse_cu12-12.1.0.106-py3-none-manylinux1_x86_64.whl (196.0 MB)\n",
            "Collecting nvidia-nccl-cu12==2.19.3 (from torch>=1.11.0->sentence-transformers)\n",
            "  Using cached nvidia_nccl_cu12-2.19.3-py3-none-manylinux1_x86_64.whl (166.0 MB)\n",
            "Collecting nvidia-nvtx-cu12==12.1.105 (from torch>=1.11.0->sentence-transformers)\n",
            "  Using cached nvidia_nvtx_cu12-12.1.105-py3-none-manylinux1_x86_64.whl (99 kB)\n",
            "Requirement already satisfied: triton==2.2.0 in /usr/local/lib/python3.10/dist-packages (from torch>=1.11.0->sentence-transformers) (2.2.0)\n",
            "Collecting nvidia-nvjitlink-cu12 (from nvidia-cusolver-cu12==11.4.5.107->torch>=1.11.0->sentence-transformers)\n",
            "  Using cached nvidia_nvjitlink_cu12-12.4.127-py3-none-manylinux2014_x86_64.whl (21.1 MB)\n",
            "Requirement already satisfied: regex!=2019.12.17 in /usr/local/lib/python3.10/dist-packages (from transformers<5.0.0,>=4.32.0->sentence-transformers) (2023.12.25)\n",
            "Requirement already satisfied: tokenizers<0.19,>=0.14 in /usr/local/lib/python3.10/dist-packages (from transformers<5.0.0,>=4.32.0->sentence-transformers) (0.15.2)\n",
            "Requirement already satisfied: safetensors>=0.4.1 in /usr/local/lib/python3.10/dist-packages (from transformers<5.0.0,>=4.32.0->sentence-transformers) (0.4.2)\n",
            "Requirement already satisfied: python-dateutil>=2.8.2 in /usr/local/lib/python3.10/dist-packages (from pandas->datasets) (2.8.2)\n",
            "Requirement already satisfied: pytz>=2020.1 in /usr/local/lib/python3.10/dist-packages (from pandas->datasets) (2023.4)\n",
            "Requirement already satisfied: tzdata>=2022.1 in /usr/local/lib/python3.10/dist-packages (from pandas->datasets) (2024.1)\n",
            "Requirement already satisfied: joblib>=1.1.1 in /usr/local/lib/python3.10/dist-packages (from scikit-learn->sentence-transformers) (1.3.2)\n",
            "Requirement already satisfied: threadpoolctl>=2.0.0 in /usr/local/lib/python3.10/dist-packages (from scikit-learn->sentence-transformers) (3.4.0)\n",
            "Requirement already satisfied: six>=1.5 in /usr/local/lib/python3.10/dist-packages (from python-dateutil>=2.8.2->pandas->datasets) (1.16.0)\n",
            "Requirement already satisfied: MarkupSafe>=2.0 in /usr/local/lib/python3.10/dist-packages (from jinja2->torch>=1.11.0->sentence-transformers) (2.1.5)\n",
            "Requirement already satisfied: mpmath>=0.19 in /usr/local/lib/python3.10/dist-packages (from sympy->torch>=1.11.0->sentence-transformers) (1.3.0)\n",
            "Installing collected packages: xxhash, nvidia-nvtx-cu12, nvidia-nvjitlink-cu12, nvidia-nccl-cu12, nvidia-curand-cu12, nvidia-cufft-cu12, nvidia-cuda-runtime-cu12, nvidia-cuda-nvrtc-cu12, nvidia-cuda-cupti-cu12, nvidia-cublas-cu12, dill, nvidia-cusparse-cu12, nvidia-cudnn-cu12, multiprocess, nvidia-cusolver-cu12, datasets, sentence-transformers\n",
            "Successfully installed datasets-2.18.0 dill-0.3.8 multiprocess-0.70.16 nvidia-cublas-cu12-12.1.3.1 nvidia-cuda-cupti-cu12-12.1.105 nvidia-cuda-nvrtc-cu12-12.1.105 nvidia-cuda-runtime-cu12-12.1.105 nvidia-cudnn-cu12-8.9.2.26 nvidia-cufft-cu12-11.0.2.54 nvidia-curand-cu12-10.3.2.106 nvidia-cusolver-cu12-11.4.5.107 nvidia-cusparse-cu12-12.1.0.106 nvidia-nccl-cu12-2.19.3 nvidia-nvjitlink-cu12-12.4.127 nvidia-nvtx-cu12-12.1.105 sentence-transformers-2.6.1 xxhash-3.4.1\n"
          ]
        }
      ]
    },
    {
      "cell_type": "code",
      "metadata": {
        "colab": {
          "base_uri": "https://localhost:8080/",
          "height": 86,
          "referenced_widgets": [
            "40f28057a0d74ca5ba947ef2ce40a31b",
            "2f3f7aabf60f4e6aba9f9c185dda43dc",
            "d19010292db84e06b188a7191c8dde18",
            "61521a99977e44febf60d4818abce3be",
            "92e5ea5df5fd4eabb77316e83805c1d3",
            "564c1befe7d540d8a75cf6ea6bdba46b",
            "8a2d6d8355b54886b6537e64e93913fb",
            "e7a26cdffed04182af2e05c97167fdaf",
            "f43b76fbeaf144c388568ee4ff6f82e0",
            "639267375c1940e68bb325664b9567da",
            "be5e11fbe6b944a88b632d35f8a8d1fc"
          ]
        },
        "id": "6zQLM84377Xf",
        "outputId": "baab847b-69e1-413a-831b-ba6bd8978008"
      },
      "source": [
        "import json\n",
        "from sentence_transformers import SentenceTransformer, CrossEncoder, util\n",
        "import time\n",
        "import gzip\n",
        "import os\n",
        "import torch\n",
        "\n",
        "map_location=torch.device('cpu')\n",
        "\n",
        "if not torch.cuda.is_available():\n",
        "  print(\"Warning: No GPU found. Please add GPU to your notebook\")\n",
        "\n",
        "\n",
        "# We use the Bi-Encoder to encode all passages, so that we can use it with sematic search\n",
        "model_name = 'nq-distilbert-base-v1'\n",
        "bi_encoder = SentenceTransformer(model_name)\n",
        "top_k = 5  # Number of passages we want to retrieve with the bi-encoder\n",
        "\n",
        "# As dataset, we use Simple English Wikipedia. Compared to the full English wikipedia, it has only\n",
        "# about 170k articles. We split these articles into paragraphs and encode them with the bi-encoder\n",
        "\n",
        "from datasets import load_dataset\n",
        "ds = load_dataset(\"Coder-Dragon/wikipedia-movies\", split='train[:1000]')\n",
        "\n",
        "passages = []\n",
        "for row in ds:\n",
        "      passages.append([row['Title'], row['Plot']])\n",
        "\n",
        "\n",
        "# If you like, you can also limit the number of passages you want to use\n",
        "print(\"Passages:\", len(passages))\n",
        "\n",
        "corpus_embeddings = bi_encoder.encode(passages, convert_to_tensor=True, show_progress_bar=True)"
      ],
      "execution_count": null,
      "outputs": [
        {
          "output_type": "stream",
          "name": "stdout",
          "text": [
            "Warning: No GPU found. Please add GPU to your notebook\n",
            "Passages: 1000\n"
          ]
        },
        {
          "output_type": "display_data",
          "data": {
            "text/plain": [
              "Batches:   0%|          | 0/32 [00:00<?, ?it/s]"
            ],
            "application/vnd.jupyter.widget-view+json": {
              "version_major": 2,
              "version_minor": 0,
              "model_id": "40f28057a0d74ca5ba947ef2ce40a31b"
            }
          },
          "metadata": {}
        }
      ]
    },
    {
      "cell_type": "code",
      "metadata": {
        "id": "ay9y6HdQ8Dx2"
      },
      "source": [
        "def search(query):\n",
        "    # Encode the query using the bi-encoder and find potentially relevant passages\n",
        "    start_time = time.time()\n",
        "    question_embedding = bi_encoder.encode(query, convert_to_tensor=True)\n",
        "    hits = util.semantic_search(question_embedding, corpus_embeddings, top_k=top_k)\n",
        "    hits = hits[0]  # Get the hits for the first query\n",
        "    end_time = time.time()\n",
        "\n",
        "    # Output of top-k hits\n",
        "    print(\"Input question:\", query)\n",
        "    print(\"Results (after {:.3f} seconds):\".format(end_time - start_time))\n",
        "    for hit in hits:\n",
        "        print(\"\\t{:.3f}\\t{}\".format(hit['score'], passages[hit['corpus_id']]))"
      ],
      "execution_count": null,
      "outputs": []
    },
    {
      "cell_type": "code",
      "source": [
        "for passage in passages[:5]:  # Print the first 5 passages for inspection\n",
        "    title, text = passage\n",
        "    print(\"Title:\", title)\n",
        "    print(\"Text:\", text)\n",
        "    print(\"=\"*50)  # Just to separate passages"
      ],
      "metadata": {
        "colab": {
          "base_uri": "https://localhost:8080/"
        },
        "id": "f5leKeI6ObiL",
        "outputId": "70903140-b64a-4d20-bd38-91277cabbc85"
      },
      "execution_count": null,
      "outputs": [
        {
          "output_type": "stream",
          "name": "stdout",
          "text": [
            "Title: Kansas Saloon Smashers\n",
            "Text: A bartender is working at a saloon, serving drinks to customers. After he fills a stereotypically Irish man's bucket with beer, Carrie Nation and her followers burst inside. They assault the Irish man, pulling his hat over his eyes and then dumping the beer over his head. The group then begin wrecking the bar, smashing the fixtures, mirrors, and breaking the cash register. The bartender then sprays seltzer water in Nation's face before a group of policemen appear and order everybody to leave.[1]\n",
            "==================================================\n",
            "Title: Love by the Light of the Moon\n",
            "Text: The moon, painted with a smiling face hangs over a park at night. A young couple walking past a fence learn on a railing and look up. The moon smiles. They embrace, and the moon's smile gets bigger. They then sit down on a bench by a tree. The moon's view is blocked, causing him to frown. In the last scene, the man fans the woman with his hat because the moon has left the sky and is perched over her shoulder to see everything better.\n",
            "==================================================\n",
            "Title: The Martyred Presidents\n",
            "Text: The film, just over a minute long, is composed of two shots. In the first, a girl sits at the base of an altar or tomb, her face hidden from the camera. At the center of the altar, a viewing portal displays the portraits of three U.S. Presidents—Abraham Lincoln, James A. Garfield, and William McKinley—each victims of assassination.\r\n",
            "In the second shot, which runs just over eight seconds long, an assassin kneels feet of Lady Justice.\n",
            "==================================================\n",
            "Title: Alice in Wonderland\n",
            "Text: Alice follows a large white rabbit down a \"Rabbit-hole\". She finds a tiny door. When she finds a bottle labeled \"Drink me\", she does, and shrinks, but not enough to pass through the door. She then eats something labeled \"Eat me\" and grows larger. She finds a fan when enables her to shrink enough to get into the \"Garden\" and try to get a \"Dog\" to play with her. She enters the \"White Rabbit's tiny House,\" but suddenly resumes her normal size. In order to get out, she has to use the \"magic fan.\"\r\n",
            "She enters a kitchen, in which there is a cook and a woman holding a baby. She persuades the woman to give her the child and takes the infant outside after the cook starts throwing things around. The baby then turns into a pig and squirms out of her grip. \"The Duchess's Cheshire Cat\" appears and disappears a couple of times to Alice and directs her to the Mad Hatter's \"Mad Tea-Party.\" After a while, she leaves.\r\n",
            "The Queen invites Alice to join the \"ROYAL PROCESSION\": a parade of marching playing cards and others headed by the White Rabbit. When Alice \"unintentionally offends the Queen\", the latter summons the \"Executioner\". Alice \"boxes the ears\", then flees when all the playing cards come for her. Then she wakes up and realizes it was all a dream.\n",
            "==================================================\n",
            "Title: The Great Train Robbery\n",
            "Text: The film opens with two bandits breaking into a railroad telegraph office, where they force the operator at gunpoint to have a train stopped and to transmit orders for the engineer to fill the locomotive's tender at the station's water tank. They then knock the operator out and tie him up. As the train stops it is boarded by the bandits‍—‌now four. Two bandits enter an express car, kill a messenger and open a box of valuables with dynamite; the others kill the fireman and force the engineer to halt the train and disconnect the locomotive. The bandits then force the passengers off the train and rifle them for their belongings. One passenger tries to escape but is instantly shot down. Carrying their loot, the bandits escape in the locomotive, later stopping in a valley where their horses had been left.\r\n",
            "Meanwhile, back in the telegraph office, the bound operator awakens, but he collapses again. His daughter arrives bringing him his meal and cuts him free, and restores him to consciousness by dousing him with water.\r\n",
            "There is some comic relief at a dance hall, where an Eastern stranger is forced to dance while the locals fire at his feet. The door suddenly opens and the telegraph operator rushes in to tell them of the robbery. The men quickly form a posse, which overtakes the bandits, and in a final shootout kills them all and recovers the stolen mail.\n",
            "==================================================\n"
          ]
        }
      ]
    },
    {
      "cell_type": "code",
      "source": [
        "print(\"Length of corpus_embeddings:\", len(corpus_embeddings))\n",
        "print(\"Length of passages:\", len(passages))"
      ],
      "metadata": {
        "colab": {
          "base_uri": "https://localhost:8080/"
        },
        "id": "fDAus65CU947",
        "outputId": "f414ebeb-2d2c-4580-bf8f-af956c9a07a2"
      },
      "execution_count": null,
      "outputs": [
        {
          "output_type": "stream",
          "name": "stdout",
          "text": [
            "Length of corpus_embeddings: 1000\n",
            "Length of passages: 1000\n"
          ]
        }
      ]
    },
    {
      "cell_type": "code",
      "metadata": {
        "colab": {
          "base_uri": "https://localhost:8080/"
        },
        "id": "yzYTZ62j8JYv",
        "outputId": "d9a80270-4cc3-41a7-cbc0-d67d97d6ee48"
      },
      "source": [
        "search(query = \"Documentaries showcasing indigenous peoples' survival and daily life in Arctic regions\")"
      ],
      "execution_count": null,
      "outputs": [
        {
          "output_type": "stream",
          "name": "stdout",
          "text": [
            "Input question: Documentaries showcasing indigenous peoples' survival and daily life in Arctic regions\n",
            "Results (after 0.068 seconds):\n",
            "\t0.457\t['Nanook of the North', 'The documentary follows the lives of an Inuk, Nanook, and his family as they travel, search for food, and trade in the Ungava Peninsula of northern Quebec, Canada. Nanook; his wife, Nyla; and their family are introduced as fearless heroes who endure rigors no other race could survive. The audience sees Nanook, often with his family, hunt a walrus, build an igloo, go about his day, and perform other tasks.']\n",
            "\t0.264\t['David Copperfield', '\"David Copperfield consists of three reels and as three separate films, released in three consecutive weeks, with three different titles: The Early Life of David Copperfield, Little Em\\'ly and David Copperfield and The Loves of David Copperfield.[4]']\n",
            "\t0.251\t['Straight Shooting', 'At the end of the 19th century in the Far West, a farmer is fighting for his right to plough the plains. In order to expel the farmers, the ranchers try to control access to water.[2]']\n",
            "\t0.244\t['The Frozen North', 'The film opens near the \"last stop on the subway\", a terminal in Alaska, which appears to be emerging from deep snow in the middle of nowhere. A tough-looking cowboy (Buster Keaton) emerges. He arrives at a small settlement, finding people gambling in a saloon. He tries to rob them by scaring them with the cutout of a poster of a man holding a gun, which he places at the window, as if he has an accomplice. He tells the gamblers to raise their hands in the air. Frightened, they hand over their cash, but soon they find out the truth when a drunk man falls over the cutout. Keaton is thrown out through the window.\\r\\nNext, he mistakenly enters a house thinking that it is his own house. Inside, he sees a man and a woman kissing. Thinking the woman is his wife, he gets red-hot angry and shoots the couple, later to realize his mistake. He goes to his own house, where he finds his wife (Sybil Seely), who greets him, but he treats her coldly. She tries to pick a vase from a shelf, but it drops and knocks her out. Investigating the shooting of the couple, a passing policeman then knocks at Keaton\\'s door after hearing his wife scream. Keaton saves himself from arrest by playing music on gramophone and pretending to dance with his unconscious wife. As soon as the officer leaves, he drops her on the floor.\\r\\nHe looks out of the window and sees his pretty neighbor (Bonnie Hill). He quickly dons an elegant white suit and picks flowers (mysteriously growing from the deep snow; a sign reads \"Keep Off the Grass\"). He attempts to woo her, but she rejects him. Her husband comes back home and Keaton\\'s character has to flee once more.\\r\\nThe neighbors leave on a sled for a new, even more bleak northerly location. Keaton gets a \"car\" (a dog sled with an engine) driven by a friend (Joe Roberts) to follow them, but it breaks down, so he has to hail a passing \"taxi\" (a horse drawn sled with upholstery). The taxi is stopped by a traffic warden riding a motorized sled with a propeller for speeding on the snow, but they get away. Keaton is up to his old tricks—he \"reverses\" the propeller so the officer goes backward into a lake. Near the north pole, he and Roberts find a hotel-like igloo with wall-hangings of a stag\\'s head and a guitar. In a gag Keaton tries to hang his hat on a stag head antler but it keeps falling off. They attempt to survive by fishing in the manner of the Eskimos. Keaton makes snow-shoes from guitars and attempts to catch fish using tinned sardines as bait, but just creates trouble—he first falls through the ice and then tries to fish—but the only things he \"catches\" are another fisherman\\'s baited fish and the other fisherman himself!\\r\\nForced to flee back to the igloo, where his companion is hoovering the ice floor, Keaton sees his pretty neighbor again in her new hut. Fortified by drinking a bottle of cola, he decides he will force himself on her in the manner of Erich von Stroheim\\'s character from the film Foolish Wives. He appears in Stroheim-like clothing at her hut, but is chased by her husband. Pretending to be a snowman, he eludes him and returns to the hut. Roberts tries to fight the husband but ends up falling into a lake. The husband returns to find his wife weeping on the floor as Keaton stands over her. He wrestles with Keaton. Keaton\\'s wife appears and shoots her husband. The wounded Keaton takes a pistol and tries to shoot the husband, but at that moment a janitor wakes Keaton up in the front row of a film theater (the gun in the last scene turns out to be a folded newspaper in his hand) and Keaton realizes that it was all a dream!']\n",
            "\t0.237\t['The Boy Friend', 'Comedy about a small-town girl unhappy with her family, and a boy trying to please her by throwing a big party.']\n"
          ]
        }
      ]
    },
    {
      "cell_type": "code",
      "metadata": {
        "colab": {
          "base_uri": "https://localhost:8080/"
        },
        "id": "i09OgOIz8K-u",
        "outputId": "4b0a62f6-c593-4a5e-9512-fcec0062a907"
      },
      "source": [
        "search(query = \"Western romance\")"
      ],
      "execution_count": null,
      "outputs": [
        {
          "output_type": "stream",
          "name": "stdout",
          "text": [
            "Input question: Western romance\n",
            "Results (after 0.049 seconds):\n",
            "\t0.305\t['The Great Gatsby', \"An adaptation of F. Scott Fitzgerald's Long Island-set novel, where Midwesterner Nick Carraway is lured into the lavish world of his neighbor, Jay Gatsby. Soon enough, however, Carraway will see through the cracks of Gatsby's nouveau riche existence, where obsession, madness, and tragedy await.\"]\n",
            "\t0.295\t[\"Youth's Endearing Charm\", 'The film is about a court case and embezzlement.']\n",
            "\t0.283\t['Frankenstein', 'Described as \"a liberal adaptation of Mrs. Shelley\\'s famous story\", the plot description in the Edison Kinetogram was:[3]']\n",
            "\t0.280\t['High Society Blues', 'A new country family comes to live among established wealthy neighbors.']\n",
            "\t0.277\t['Romance', 'As described in a film publication,[2] a youth (Arthur Rankin) in the prologue seeks advice from his grandfather (Sydney), who then recalls a romance of his own youth which is then shown as a flashback. A priest (Sydney) is in love with an Italian opera singer (Keane), and the drama involves the conflict between his efforts to rise above worldly things or to leave with her. The romance ends with a deep note of pathos.']\n"
          ]
        }
      ]
    },
    {
      "cell_type": "code",
      "metadata": {
        "colab": {
          "base_uri": "https://localhost:8080/"
        },
        "id": "I34QJmac8MGm",
        "outputId": "371c29d5-b9be-40f2-83bb-19b82447e612"
      },
      "source": [
        "search(query = \"Silent film about a Parisian star moving to Egypt, leaving her husband for a baron, and later reconciling after finding her family in poverty in Cairo\")"
      ],
      "execution_count": null,
      "outputs": [
        {
          "output_type": "stream",
          "name": "stdout",
          "text": [
            "Input question: Silent film about a Parisian star moving to Egypt, leaving her husband for a baron, and later reconciling after finding her family in poverty in Cairo\n",
            "Results (after 0.100 seconds):\n",
            "\t0.464\t['Married in Hollywood', \"A showgirl, part of a troupe, tours Europe where she falls in love with a Balkan prince. The prince's parents disapprove and attempt to put a stop to the romance. A revolution occurs and the prince and the showgirl elope to Hollywood.\"]\n",
            "\t0.433\t['Sahara', \"Silent film femme fatale, Louise Glaum, portrays the role of Mignon, a Parisian music hall celebrity. Mignon marries a young American civil engineer, John Stanley, portrayed by Matt Moore. Stanley is transferred to Egypt to work on an engineering project in the Sahara. Mignon and her son, portrayed by Pat Moore, join Stanley in the desert.[3][4] Unhappy with life in the desert, Mignon leaves Stanley and her son in the desert and moves to Cairo with the wealthy Baron Alexis, portrayed by Edwin Stevens. Mignon lives in Baron Alexis' palace while Stanley goes blind and becomes addicted to the drug hasheesh. Mignon later encounters Stanley and her son, who have become beggars in the streets of Cairo.[3][4] Mignon returns to the desert to care for her husband, and the two are reconciled.\"]\n",
            "\t0.416\t['The King on Main Street', 'King Serge IV of Molvania (Menjou) comes to a small American town, and falls in love with one of its residents, Mary Young (Love).[3][4]']\n",
            "\t0.411\t['Peacock Alley', \"As described in a film magazine,[3] the board of directors for the main manufacturing company in the American village of Harmonville send young Elmer Harmon (Blue) to Paris to obtain a contract with the French government. In Paris Elmer meets the dancer Cleo of Paris (Murray), who casts aside her rich, would-be sweethearts and falls in love with him. When his business affairs appear hopeless, she helps him secure his contract, and the couple are married and return to Harmonville. A gala is given in Elmer's honor for having saved the village's prosperity, and citizens are shocked by Cleo's Parisian fashion. Elmer sells his interests and the couple move to New York City. To give Cleo the luxuries to which she is accustomed, Elmer in a moment of weakness forges his uncle's name and is arrested. Endeavoring to get Elmer out of trouble, Cleo returns to the stage, but in so doing she breaks a promise made to her husband. Elmer is released from jail after promising his uncle to have nothing more to do with Cleo, but then immediately tries to look her up. He finds her in what appears to be a compromising but innocent situation and decides the bad things that have been said about Cleo are true. He returns to Harmonville and the heartbroken Cleo returns to France and seeks seclusion in Normandy. Three years later Elmer finds Cleo there along with her little son who is named for him. They have a reconciliation.\"]\n",
            "\t0.409\t['Bound in Morocco', 'As described in a film magazine,[3] George Travelwell (Fairbanks), an American youth motoring in Morocco, discovers that the governor of El Harib (Campeau) has seized a young American woman for his harem. Disguised as an inmate of the harem, George nearly wrecks the place while he rescues her. One thrilling incident follows upon the heels of another in their attempts to get away, and it ends with him setting one tribe against another, leaving them free to peacefully ride away.']\n"
          ]
        }
      ]
    },
    {
      "cell_type": "code",
      "metadata": {
        "colab": {
          "base_uri": "https://localhost:8080/"
        },
        "id": "07Y5IlfY8NYO",
        "outputId": "4a737b39-72b0-4c74-e8e7-d408861b554c"
      },
      "source": [
        "search(query = \"Comedy film, office disguises, boss's daughter, elopement\")"
      ],
      "execution_count": null,
      "outputs": [
        {
          "output_type": "stream",
          "name": "stdout",
          "text": [
            "Input question: Comedy film, office disguises, boss's daughter, elopement\n",
            "Results (after 0.074 seconds):\n",
            "\t0.389\t[\"Youth's Endearing Charm\", 'The film is about a court case and embezzlement.']\n",
            "\t0.362\t['The Boy Friend', 'Comedy about a small-town girl unhappy with her family, and a boy trying to please her by throwing a big party.']\n",
            "\t0.350\t[\"The Pasha's Daughter\", \"The film begins with Jack Sparks, a young American, who is traveling in Turkey. He befriends an aged Turk during a carriage ride and the Turk invites Jack into his home. The man smokes from a hookah and several of other men arrive and speak with the Turk whilst Jack wanders about the house. Soon afterwards, the men are all arrested for conspiracy against the government and Jack is imprisoned as one of the conspirators. In jail, Jack tries to make his escape and throws the guard to the ground, no sooner has he left the cell is he forced back by two more guards. He struggles in vain, but is once again locked in his cell. Jack gets an idea to escape when he sees the bed sheet and the cell window. Using his pocket knife, he digs out the bar of the cell window and drops to freedom. He struggles and overpowers a guard before climbing over the wall and into the courtyard of the Pasha's palace.[1]\\r\\nThe Pasha'a daughter, Murana, finds him hiding and orders her servant to assist in Jack's escape. Guards appear and announce that they are looking for the escaped prisoner, but they are turned away. Dressed up as a woman, Jack tries to have Murana flee with him. She says that one day she cannot marry him now, but she may come to his country one day. Jack trades a flower for his business card and departs. A year later, Jack and his mother have a visitor ushered and they stand in confusion at the beautiful young woman. Jack does not recognize her until she covers her face with her veil and she announces her intention to be his bride.[1]\"]\n",
            "\t0.350\t['The Evidence of the Film', 'The Evidence of the Film tells the story of a messenger boy at a film studio who is wrongfully accused of stealing bonds worth $20,000. He is saved by his sister, a film cutter, who comes across some footage of her brother inadvertently walking into a location shot and being knocked down by the real-life villain.']\n",
            "\t0.340\t[\"Mabel's Blunder\", \"Mabel's Blunder tells the tale of a young woman who is secretly engaged to the boss's son.[1] The young man's sister comes to visit at their office, and a jealous Mabel, not knowing who the visiting woman is, dresses up as a (male) chauffeur to spy on them.\"]\n"
          ]
        }
      ]
    },
    {
      "cell_type": "code",
      "metadata": {
        "colab": {
          "base_uri": "https://localhost:8080/"
        },
        "id": "-Vwl92Sj8OfH",
        "outputId": "b4ecb8c5-480c-42f1-cf75-d29c5a9acaa4"
      },
      "source": [
        "search(query = \"Lost film, Cleopatra charms Caesar, plots world rule, treasures from mummy, revels with Antony, tragic end with serpent in Alexandria.\")"
      ],
      "execution_count": null,
      "outputs": [
        {
          "output_type": "stream",
          "name": "stdout",
          "text": [
            "Input question: Lost film, Cleopatra charms Caesar, plots world rule, treasures from mummy, revels with Antony, tragic end with serpent in Alexandria.\n",
            "Results (after 0.086 seconds):\n",
            "\t0.537\t['Cleopatra', \"Because the film has been lost, the following summary is reconstructed from a description in a contemporary film magazine.\\r\\nCleopatra (Bara), the Siren of Egypt, by a clever ruse reaches Caesar (Leiber) and he falls victim to her charms. They plan to rule the world together, but then Caesar falls. Cleopatra's life is desired by the church, as the wanton woman's rule has become intolerable. Pharon (Roscoe), a high priest, is given a sacred dagger to take her life. He gives her his love instead and, when she is in need of some money, leads her to the tomb of his ancestors, where she tears the treasure from the breast of the mummy. With this wealth she goes to Rome to meet Antony (Hall). He leaves the affairs of state and travels to Alexandria with her, where they revel. Antony is recalled to Rome and married to Octavia (Blinn), but his soul cries out for Cleopatra. He sends her a message to arm her ships and meet him at Actium, where they battle the opposing forces. They are overpowered, and flee to Alexandria. There they are captured by Octavius (De Vries), and Antony dies in Cleopatra's arms. Before Cleopatra is to be dragged behind the wheels of Octavius' chariot, Pharon the priest, who has never ceased to love her, brings her the serpent that she joyously brings to her breast, dying royally with her crown on her head and scepter in her hand as becomes Egypt.\"]\n",
            "\t0.365\t['The Lost World', 'From a lost expedition to a plateau in Venezuela, Paula White brings the journal of her father explorer Maple White to the eccentric Professor Challenger in London. The journal features sketches of dinosaurs which is enough proof for Challenger to publicly announce that dinosaurs still walk the earth. Met with ridicule at an academic meeting at the Zoological Hall, Challenger reluctantly accepts a newspaper\\'s offer to finance a mission to rescue Maple White. Professor Challenger, Paula White, sportsman Sir John Roxton, news reporter Edward Malone (who is a friend of Roxton and wishes to go on the expedition to impress his fiancée), a skeptical professor Summerlee, an Indian servant Zambo, and Challenger\\'s butler Austin leave for the plateau.\\r\\nAt their campsite at the base of the plateau, the explorers are shocked when a large rock falls, sent their way by an Apeman perched on top of an overhead ledge. As the crew look up to see their attacker, Challenger spies overhead a Pteranodon (mistakenly calling it a Pterodactylus) killing and eating a young Toxodon which proves that the statements in Maple White\\'s diary are true. Leaving Zambo and Austin at the camp, they cross a chasm onto the plateau by cutting down a tree and using it as a bridge, but it is knocked over by a Brontosaurus, leaving them trapped.\\r\\nThe explorers witness various life-and-death struggles between the prehistoric beasts of the plateau. An Allosaurus attacks an Edmontosaurus, and knocks it into a bog. The Allosaurus then attacks, and is driven off by a Triceratops. Eventually, the Allosaurus makes its way to the campsite and attacks the exploration party. It is finally driven off by Ed who tosses a torch into its mouth. Convinced that the camp is not safe, Ed climbs a tree to look for a new location, but is attacked by the apeman. Roxton succeeds in shooting the apeman, but the creature is merely wounded and escapes before he can finish him off. Meanwhile, an Agathaumas is attacked by the Allosaurus, and gores it to death. Suddenly, a Tyrannosaurus attacks and kills the Agathaumas, along with an unfortunate Pteranodon.\\r\\nThe explorers then make preparations to live on the plateau potentially indefinitely. A catapult is constructed and during a search for Maple White, Roxton finds his remains, confirming his death. It is at this time that Ed confesses his love for Paula and the two are unofficially wed by Summerlee who used to be a minister.\\r\\nShortly afterwards, as the paleontologists are observing the Brontosaurus, an Allosaurus attacks it and the Brontosaurus falls off the edge of the plateau, becoming trapped in a mud bank at the base of the plateau. Soon afterwards, a volcano erupts causing a mass stampede among the giant creatures of the lost world. The crew is saved when Paula\\'s pet monkey Jocko climbs up the plateau carrying a rope. The crew use the rope to pull up a rope ladder constructed by Zambo and Austin and then climb down.\\r\\nAs Ed makes his descent, he is again attacked by the apeman who pulls the rope ladder. The apeman is again shot and finally killed by Roxton. They discover the Brontosaurus that had been pushed off the plateau had landed softly in the mud of the river, trapped but still alive, and Challenger manages to bring it back to London, as he wants to put it on display as proof of his story.\\r\\nHowever, while being unloaded from the ship it escapes and causes havoc until it reaches Tower Bridge, where its massive weight causes a collapse, and it swims down the River Thames. Challenger is morose as the creature leaves. Ed discovers that the love he left in London has married in his absence, allowing him and Paula to be together. Roxton morosely but gallantly hides his love for Paula as Paula and Ed leave together, while two passersby note: \"That\\'s Sir John Roxton—sportsman.\"']\n",
            "\t0.358\t['The Man Who Lost Himself', \"As described in a film magazine,[4] American Victor Jones (Faversham) finds himself penniless and stranded in London. He meets the Earl of Rochester (Faversham), and the similarity between the two is so noticeable that even friends mistake Jones for the Earl. The Earl is estranged from his wife (Hopper) and family, owes great sums of money, and is considered in a bad light by acquaintances. He gets Jones drunk and sends him to the Rochester mansion, and then commits suicide. Until Jones receives a note written by the Earl prior to his death, he does not perceive his position. After reading the note, Jones immediately begins to pose as the Earl, but later reveals this scheme. However, he has fallen in love with the Earl's widow and they decide to reside in the United States.\"]\n",
            "\t0.353\t['The Golden Louis', 'An old woman sends a girl begging in the streets of Paris on a snowy evening. Callous revelers pass her by, and she falls asleep before one donor finally drops a golden Louis in her shoe. A gambler with a sure tip on roulette but no cash borrows the coin to win a fortune for the girl. She wakes, and the two miss each other wandering the streets until the gambler finds the girl dead.']\n",
            "\t0.337\t['Reaching for the Moon', 'Wall Street wizard, Larry Day, new to the ways of love, is coached by his valet. He follows Vivian Benton on an ocean liner, where cocktails, laced with a \"love potion\", work their magic. He then loses his fortune in the market crash and feels he has also lost his girl.']\n"
          ]
        }
      ]
    },
    {
      "cell_type": "code",
      "metadata": {
        "colab": {
          "base_uri": "https://localhost:8080/"
        },
        "id": "8ctUiLrj8Qjv",
        "outputId": "fe67de87-5524-4276-bea5-028b196c628d"
      },
      "source": [
        "search(query = \"Denis Gage Deane-Tanner\")"
      ],
      "execution_count": null,
      "outputs": [
        {
          "output_type": "stream",
          "name": "stdout",
          "text": [
            "Input question: Denis Gage Deane-Tanner\n",
            "Results (after 0.082 seconds):\n",
            "\t0.365\t['Souls for Sale', 'Remember \"Mem\" Steddon (Eleanor Boardman) marries Owen Scudder (Lew Cody) after a whirlwind courtship. However, on their wedding night, she has a change of heart. When the train taking them to Los Angeles stops for water, she impulsively and secretly gets off in the middle of the desert. Strangely, when Scudder realizes she is gone, he does not have the train stopped.\\r\\nMem sets off in search of civilization. Severely dehydrated, she sees an unusual sight: an Arab on a camel. It turns out to be actor Tom Holby (Frank Mayo); she has stumbled upon a film being shot on location. When she recuperates, she is given a role as an extra. Both Holby and director Frank Claymore (Richard Dix) are attracted to her. However, when filming ends, she does not follow the troupe back to Hollywood, but rather gets a job at a desert inn.\\r\\nMeanwhile, Scudder is recognized and arrested at the train station. He turns out to be a cold-blooded murderer who marries women, insures them, and then kills them for the payoff. He escapes and persuades a gullible Abigail Tweedy (Dale Fuller) to file off his handcuffs. She becomes his next victim, though fortunately for her, he only robs her of her savings. He leaves the country and targets Englishwoman Lady Jane (Aileen Pringle). To his profound embarrassment, she turns out to be the same sort of crook as he; she and her father \"Lord Fryingham\" (William Orlamond) rob him, but let him live.\\r\\nWhen the inn closes for the season, Mem travels to Hollywood in search of work. Her actress friend from the desert shoot, Leva Lemaire (Barbara La Marr), persuades Claymore to give her a screen test for the only uncast role in his next production: a comic part. Though she fails miserably, Claymore decides to train her anyway. She proves to be talented and steadily gets better and better parts.\\r\\nJust as Mem is rising to fame, Scudder returns and sneaks into her bedroom. Holby and Claymore have become rivals for Mem\\'s affections. When Scudder sees their warmly autographed photographs, he flies into a jealous rage. Mem, aware of her husband\\'s past and fearful of a career-ending scandal, offers him money to leave her alone, but he wants her. Scudder leaves only when she threatens to kill herself. Claymore shows up, but when Scudder overhears the director propose marriage to his protegée, Scudder tries to shoot him. Claymore wrestles away his gun, but lets him go at Mem\\'s urging.\\r\\nWhen star Robina Teele (Mae Busch) is seriously injured by a falling light, Claymore decides to have Mem take her place. Filming continues on an outdoor circus set, complete with a full-scale Big Top tent. In the climax, a lightning storm sets the huge tent on fire in the middle of filming. (Claymore orders his cameramen to keep shooting.) Scudder, who has snuck into the audience of extras, takes advantage of the panic and confusion to try to kill an unsuspecting Claymore by driving a wind machine (with a deadly propeller) at him. Holby spots Scudder and struggles with him. When Mem stumbles into the machine\\'s path, Scudder rushes to save her and loses his own life. He apologizes before dying, explaining that all his life there was something wrong with him, but he did at least one thing right. Afterward, Mem chooses Claymore over Holby.']\n",
            "\t0.363\t['The Man in Possession', 'Raymond Dabney (Montgomery) returns to a mixed reaction from his middle-class family in London after serving a sentence at HM Prison Wormwood Scrubs for stealing a motorcar. His mother (Beryl Mercer) and the family servant (Maude Eburne) are delighted to see him, but his father (C. Aubrey Smith) and brother Claude (Reginald Owen) are less so. His father is particularly disappointed in him, having sent him to Cambridge. The two men offer him £500 to leave the country and never return; it seems Claude is engaged to a rich widow, and they are anxious to avoid any scandal that might endanger the marriage. Raymond turns it down, however, and departs the same day.\\r\\nHe obtains work as a sheriff\\'s officer, helping a bailiff serve a writ on Crystal Wetherby (Purcell), a woman in serious debt, taking possession of her property. The bailiff instructs him to remain in Crystal\\'s mansion to keep an eye on the seized property until the next day, but also to provide any reasonable assistance to the woman. Crystal and her sole remaining servant, Clara (Greenwood), have him take the place of the departed butler.\\r\\nThen Crystal mentions the name of her fiancé, none other than Claude Dabney. Claude is bringing his parents to dinner that night to meet her. The situation is awkward for all the Dabneys. Meanwhile, Crystal\\'s admirer, the wealthy and generous (if disreputable) Sir Charles Cartwright (Alan Mowbray), shows up. Crystal has carefully kept the news of her engagement from him. She manages to get the jealous man to leave without him meeting her dinner guests. Before Claude leaves, he informs Crystal that her butler has a crooked past (without revealing they are brothers), but she refuses to discharge him (without revealing he is actually in possession of the premises). To complicate matters even further, that night Raymond seduces a willing Crystal.\\r\\nThe next morning, Raymond prepares Crystal\\'s breakfast in bed, though Clara insists on taking it up to her. When Crystal removes the cover, she sees that the bacon has been arranged to spell the word \"LOVE\". Clara picks up Crystal\\'s undergarments scattered around the room, noting that her chemise is torn. Crystal does not correct Clara\\'s incredulous assumption that it was Claude who ripped it.\\r\\nRaymond then proceeds to sabotage Crystal\\'s other relationships. When Sir Charles arrives, Raymond informs him of her engagement, causing the latter to tear up a check for £1000 he was about to give Crystal. Claude then offers his brother £1000 to leave England forever; Raymond insists on being paid an additional £200 for immediate expenses. Then Raymond shows Claude the writ, proving Crystal is not the wealthy woman she pretends to be. Panic-stricken, Claude tells Raymond to reveal to her that they are brothers (in order to break off the engagement without being sued for breach of promise) and hastily departs. Sir Charles returns, having discovered that his love for Crystal is too strong, but she declines his proposal of marriage.\\r\\nWhen the bailiff shows up, Raymond pays off the outstanding debt, collects his wages, and informs Crystal that they can be married on the ship taking them to a fresh start in a new country. She reminds him of her past, but he is undeterred. She then happily embraces him.']\n",
            "\t0.344\t[\"The Man from Blankley's\", \"The trouble begins when Lord Strathpeffer (John Barrymore), who is on his way to visit an Egyptologist with a case of instruments used by entomologists, loses his way in the fog and wanders into the home (who lives next door to the Egyptologist) of a woman who is hosting a fancy dinner. Mr. and Mrs. Tidmarsh (Dick Henderson and Emily Fitzroy), a middle-class English couple, are giving a dinner party in honor of their wealthy uncle, Gabriel Gilwattle (Albert Gran), hoping to receive his financial aid in their struggle to keep up appearances.\\r\\nAs a result of many of the invitees informing Mrs. Tidmarsh that they could not attend her party, she believes that only 13 guests will show up. As Gilwattle is a superstitious man, Mrs. Tidmarsh sends to the Blankley Employment Agency to send them a distinguished looking man to serve as a guest. In the meantime some other guests inform Fitzroy that they won't be able to come and the hired man is no longer needed. She informs the agency that the man is no longer needed. Nevertheless, when Barrymore arrives at the door, they automatically assume that he was sent by the agency and invite him in to dinner.\\r\\nMayhem ensues. Margery Seaton (Loretta Young), one of the dinner guests, recognizes Barrymore as a former lover, and therefore assumes him to be an impostor. Sobering, Strathpeffer realizes he has come to the wrong party and asserts his right to his title; but Gwennie (Angella Mawby) hides her father's watch in Strathpeffer's pocket as he is renewing his romance with Margery. A police inspector arrives hunting for the missing lord, establishing his authenticity and the fact that he is not, after all, the hired guest.\"]\n",
            "\t0.333\t['Blind Youth', 'As described in a film magazine,[2] when Elizabeth (McDowell) and Pierre Monnier (Swickard) part, the mother takes one son, Henry (Kinny), while the father takes the other, Maurie (McGrail), to Paris. Maurie shows promise as a sculptor, but his life is ruined when he marries Clarice (Carew) and she deserts him to go with Jules Chandoce, a returning soldier. When his father dies, Maurie returns to New York, but finds his mother and brother ashamed of him. He walks the street for a time and contemplates suicide, but becomes inspired after meeting artist model Hope Martin (Joy). With her posing for him he makes a figure called \"Blind Youth\" which makes him famous overnight. After confessing his love to Hope, he tells her of his unfortunate marriage. Clarice reappears to share Maurie\\'s recent fortune, but, after finally realizing that his happiness means more to her than money, she confesses to him that their marriage was illegal as Chandoce really was her husband. Maurie and Hope then wed.']\n",
            "\t0.303\t['Old Clothes', \"Tim Kelly (Jackie Coogan) and Max Ginsberg (Max Davidson) have struck it rich by investing in copper stock. But when the stock takes a dive, they are compelled to go back into their former profession — junk dealers. They take in the destitute Mary Riley (Joan Crawford) as a boarder and she hits it off so well with them that she winds up becoming a partner in their rag & junk company. Mary falls in love with a man named Nathan Burke (Allan Forrest), the son of wealthy parents. Nathan's mother (Lillian Elliott), however, disapproves of Mary. Eventually it is revealed that Mrs. Burke came from a poor background herself, and her long-ago sweetheart was Max. After this discovery, she gives the couple her blessings. The copper stock soars in value once again, so Kelly and Ginsberg are back in the money.[1]\"]\n"
          ]
        }
      ]
    },
    {
      "cell_type": "code",
      "metadata": {
        "colab": {
          "base_uri": "https://localhost:8080/"
        },
        "id": "uGm4v0MeBYUa",
        "outputId": "8c3c579c-c128-4d2b-f7dc-7c277db5ac99"
      },
      "source": [
        "from sentence_transformers import SentenceTransformer, util\n",
        "model = SentenceTransformer('nq-distilbert-base-v1')\n",
        "\n",
        "query_embedding = model.encode('How many people live in London?')\n",
        "\n",
        "#The passages are encoded as [title, text]\n",
        "passage_embedding = model.encode([['London', 'London has 9,787,426 inhabitants at the 2011 census.']])\n",
        "\n",
        "print(\"Similarity:\", util.pytorch_cos_sim(query_embedding, passage_embedding))"
      ],
      "execution_count": null,
      "outputs": [
        {
          "output_type": "stream",
          "name": "stdout",
          "text": [
            "Similarity: tensor([[0.6503]])\n"
          ]
        }
      ]
    },
    {
      "cell_type": "code",
      "metadata": {
        "colab": {
          "base_uri": "https://localhost:8080/"
        },
        "id": "OFaQkBLK_4pn",
        "outputId": "834b2f7b-0654-4090-c85f-8f48a11f7297"
      },
      "source": [
        "query_embedding = model.encode('who turned out to be the mother on how i met your mother')\n",
        "\n",
        "#The passages are encoded as [title, text]\n",
        "passage_embedding = model.encode([['The Mother (How I Met Your Mother)', 'The Mother (How I Met Your Mother) Tracy McConnell (colloquial: \"The Mother\") is the title character from the CBS television sitcom \"How I Met Your Mother\". The show, narrated by Future Ted (Bob Saget), tells the story of how Ted Mosby (Josh Radnor) met The Mother. Tracy McConnell appears in eight episodes, from \"Lucky Penny\" to \"The Time Travelers\", as an unseen character; she was first seen fully in \"Something New\" and was promoted to a main character in season 9. The Mother is played by Cristin Milioti. The story of how Ted met The Mother is the framing device'],\n",
        "                                  ['Make It Easy on Me', 'and Pete Waterman on her 1993 album \"Good \\'N\\' Ready\", on which a remixed version of the song is included. \"Make It Easy On Me\", a mid-tempo R&B jam, received good reviews (especially for signalling a different, more soulful and mature sound atypical of the producers\\' Europop fare), but failed to make an impact on the charts, barely making the UK top 100 peaking at #99, and peaking at #52 on the \"Billboard\" R&B charts. The pop group Steps covered the song on their 1999 album \"Steptacular\". It was sung as a solo by Lisa Scott-Lee. Make It Easy on']])\n",
        "\n",
        "print(\"Similarity:\", util.pytorch_cos_sim(query_embedding, passage_embedding))"
      ],
      "execution_count": null,
      "outputs": [
        {
          "output_type": "stream",
          "name": "stdout",
          "text": [
            "Similarity: tensor([[ 0.7562, -0.0835]])\n"
          ]
        }
      ]
    },
    {
      "cell_type": "code",
      "metadata": {
        "colab": {
          "base_uri": "https://localhost:8080/"
        },
        "id": "yq6w1AUQAaNW",
        "outputId": "e32009bb-8059-4bd9-ce5c-3a1a7ac3cfb4"
      },
      "source": [
        "query_embedding = model.encode('where does the story the great gatsby take place')\n",
        "passage_embedding = model.encode([['The Great Gatsby',\n",
        " 'The Great Gatsby The Great Gatsby is a 1925 novel written by American author F. Scott Fitzgerald that follows a cast of characters living in the fictional towns of West Egg and East Egg on prosperous Long Island in the summer of 1922. The story primarily concerns the young and mysterious millionaire Jay Gatsby and his quixotic passion and obsession with the beautiful former debutante Daisy Buchanan. Considered to be Fitzgerald\\'s magnum opus, \"The Great Gatsby\" explores themes of decadence, idealism, resistance to change, social upheaval, and excess, creating a portrait of the Roaring Twenties that has been described as'],\n",
        " ['The Producers (1967 film)', '2005 (to coincide with the remake released that year). In 2011, MGM licensed the title to Shout! Factory to release a DVD and Blu-ray combo pack with new HD transfers and bonus materials. StudioCanal (worldwide rights holder to all of the Embassy Pictures library) released several R2 DVD editions and Blu-ray B releases using a transfer slightly different from the North Ameri can DVD and BDs. The Producers (1967 film) The Producers is a 1967 American satirical comedy film written and directed by Mel Brooks and starring Zero Mostel, Gene Wilder, Dick Shawn, and Kenneth Mars. The film was Brooks\\'s directorial']\n",
        "])\n",
        "\n",
        "print(\"Similarity:\", util.pytorch_cos_sim(query_embedding, passage_embedding))\n"
      ],
      "execution_count": null,
      "outputs": [
        {
          "output_type": "stream",
          "name": "stdout",
          "text": [
            "Similarity: tensor([[ 0.8294, -0.2055]])\n"
          ]
        }
      ]
    }
  ]
}